{
 "cells": [
  {
   "cell_type": "code",
   "execution_count": 2,
   "metadata": {},
   "outputs": [],
   "source": [
    "import pandas as pd\n",
    "import numpy as np"
   ]
  },
  {
   "cell_type": "code",
   "execution_count": 3,
   "metadata": {},
   "outputs": [],
   "source": [
    "data = pd.read_csv(\"D:/Mlops/artifacts/train_data.csv\")"
   ]
  },
  {
   "cell_type": "code",
   "execution_count": 4,
   "metadata": {},
   "outputs": [
    {
     "data": {
      "text/html": [
       "<div>\n",
       "<style scoped>\n",
       "    .dataframe tbody tr th:only-of-type {\n",
       "        vertical-align: middle;\n",
       "    }\n",
       "\n",
       "    .dataframe tbody tr th {\n",
       "        vertical-align: top;\n",
       "    }\n",
       "\n",
       "    .dataframe thead th {\n",
       "        text-align: right;\n",
       "    }\n",
       "</style>\n",
       "<table border=\"1\" class=\"dataframe\">\n",
       "  <thead>\n",
       "    <tr style=\"text-align: right;\">\n",
       "      <th></th>\n",
       "      <th>Unnamed: 0</th>\n",
       "      <th>Square_Footage</th>\n",
       "      <th>Num_Bedrooms</th>\n",
       "      <th>Num_Bathrooms</th>\n",
       "      <th>Year_Built</th>\n",
       "      <th>Lot_Size</th>\n",
       "      <th>Garage_Size</th>\n",
       "      <th>Neighborhood_Quality</th>\n",
       "      <th>House_Price</th>\n",
       "    </tr>\n",
       "  </thead>\n",
       "  <tbody>\n",
       "    <tr>\n",
       "      <th>0</th>\n",
       "      <td>541</td>\n",
       "      <td>3245</td>\n",
       "      <td>5</td>\n",
       "      <td>2</td>\n",
       "      <td>1950</td>\n",
       "      <td>1.518239</td>\n",
       "      <td>2</td>\n",
       "      <td>10</td>\n",
       "      <td>6.951954e+05</td>\n",
       "    </tr>\n",
       "    <tr>\n",
       "      <th>1</th>\n",
       "      <td>440</td>\n",
       "      <td>4860</td>\n",
       "      <td>5</td>\n",
       "      <td>2</td>\n",
       "      <td>1977</td>\n",
       "      <td>3.872417</td>\n",
       "      <td>0</td>\n",
       "      <td>6</td>\n",
       "      <td>1.060713e+06</td>\n",
       "    </tr>\n",
       "    <tr>\n",
       "      <th>2</th>\n",
       "      <td>482</td>\n",
       "      <td>1655</td>\n",
       "      <td>2</td>\n",
       "      <td>3</td>\n",
       "      <td>1997</td>\n",
       "      <td>2.519505</td>\n",
       "      <td>2</td>\n",
       "      <td>5</td>\n",
       "      <td>3.962773e+05</td>\n",
       "    </tr>\n",
       "    <tr>\n",
       "      <th>3</th>\n",
       "      <td>422</td>\n",
       "      <td>4579</td>\n",
       "      <td>2</td>\n",
       "      <td>3</td>\n",
       "      <td>2005</td>\n",
       "      <td>2.595571</td>\n",
       "      <td>0</td>\n",
       "      <td>10</td>\n",
       "      <td>9.874427e+05</td>\n",
       "    </tr>\n",
       "    <tr>\n",
       "      <th>4</th>\n",
       "      <td>778</td>\n",
       "      <td>2070</td>\n",
       "      <td>4</td>\n",
       "      <td>2</td>\n",
       "      <td>1978</td>\n",
       "      <td>3.453736</td>\n",
       "      <td>1</td>\n",
       "      <td>8</td>\n",
       "      <td>4.736292e+05</td>\n",
       "    </tr>\n",
       "  </tbody>\n",
       "</table>\n",
       "</div>"
      ],
      "text/plain": [
       "   Unnamed: 0  Square_Footage  Num_Bedrooms  Num_Bathrooms  Year_Built  \\\n",
       "0         541            3245             5              2        1950   \n",
       "1         440            4860             5              2        1977   \n",
       "2         482            1655             2              3        1997   \n",
       "3         422            4579             2              3        2005   \n",
       "4         778            2070             4              2        1978   \n",
       "\n",
       "   Lot_Size  Garage_Size  Neighborhood_Quality   House_Price  \n",
       "0  1.518239            2                    10  6.951954e+05  \n",
       "1  3.872417            0                     6  1.060713e+06  \n",
       "2  2.519505            2                     5  3.962773e+05  \n",
       "3  2.595571            0                    10  9.874427e+05  \n",
       "4  3.453736            1                     8  4.736292e+05  "
      ]
     },
     "execution_count": 4,
     "metadata": {},
     "output_type": "execute_result"
    }
   ],
   "source": [
    "data.head()"
   ]
  },
  {
   "cell_type": "code",
   "execution_count": 5,
   "metadata": {},
   "outputs": [
    {
     "name": "stdout",
     "output_type": "stream",
     "text": [
      "<class 'pandas.core.frame.DataFrame'>\n",
      "RangeIndex: 700 entries, 0 to 699\n",
      "Data columns (total 9 columns):\n",
      " #   Column                Non-Null Count  Dtype  \n",
      "---  ------                --------------  -----  \n",
      " 0   Unnamed: 0            700 non-null    int64  \n",
      " 1   Square_Footage        700 non-null    int64  \n",
      " 2   Num_Bedrooms          700 non-null    int64  \n",
      " 3   Num_Bathrooms         700 non-null    int64  \n",
      " 4   Year_Built            700 non-null    int64  \n",
      " 5   Lot_Size              700 non-null    float64\n",
      " 6   Garage_Size           700 non-null    int64  \n",
      " 7   Neighborhood_Quality  700 non-null    int64  \n",
      " 8   House_Price           700 non-null    float64\n",
      "dtypes: float64(2), int64(7)\n",
      "memory usage: 49.3 KB\n"
     ]
    }
   ],
   "source": [
    "data.info()"
   ]
  },
  {
   "cell_type": "code",
   "execution_count": 6,
   "metadata": {},
   "outputs": [],
   "source": [
    "data.drop(columns=['Unnamed: 0'] , inplace = True)"
   ]
  },
  {
   "cell_type": "code",
   "execution_count": 7,
   "metadata": {},
   "outputs": [
    {
     "name": "stdout",
     "output_type": "stream",
     "text": [
      "<class 'pandas.core.frame.DataFrame'>\n",
      "RangeIndex: 700 entries, 0 to 699\n",
      "Data columns (total 8 columns):\n",
      " #   Column                Non-Null Count  Dtype  \n",
      "---  ------                --------------  -----  \n",
      " 0   Square_Footage        700 non-null    int64  \n",
      " 1   Num_Bedrooms          700 non-null    int64  \n",
      " 2   Num_Bathrooms         700 non-null    int64  \n",
      " 3   Year_Built            700 non-null    int64  \n",
      " 4   Lot_Size              700 non-null    float64\n",
      " 5   Garage_Size           700 non-null    int64  \n",
      " 6   Neighborhood_Quality  700 non-null    int64  \n",
      " 7   House_Price           700 non-null    float64\n",
      "dtypes: float64(2), int64(6)\n",
      "memory usage: 43.9 KB\n"
     ]
    }
   ],
   "source": [
    "data.info()"
   ]
  },
  {
   "cell_type": "code",
   "execution_count": 8,
   "metadata": {},
   "outputs": [
    {
     "data": {
      "text/plain": [
       "np.int64(0)"
      ]
     },
     "execution_count": 8,
     "metadata": {},
     "output_type": "execute_result"
    }
   ],
   "source": [
    "data.duplicated().sum()"
   ]
  },
  {
   "cell_type": "code",
   "execution_count": 9,
   "metadata": {},
   "outputs": [
    {
     "data": {
      "text/html": [
       "<div>\n",
       "<style scoped>\n",
       "    .dataframe tbody tr th:only-of-type {\n",
       "        vertical-align: middle;\n",
       "    }\n",
       "\n",
       "    .dataframe tbody tr th {\n",
       "        vertical-align: top;\n",
       "    }\n",
       "\n",
       "    .dataframe thead th {\n",
       "        text-align: right;\n",
       "    }\n",
       "</style>\n",
       "<table border=\"1\" class=\"dataframe\">\n",
       "  <thead>\n",
       "    <tr style=\"text-align: right;\">\n",
       "      <th></th>\n",
       "      <th>Square_Footage</th>\n",
       "      <th>Num_Bedrooms</th>\n",
       "      <th>Num_Bathrooms</th>\n",
       "      <th>Year_Built</th>\n",
       "      <th>Lot_Size</th>\n",
       "      <th>Garage_Size</th>\n",
       "      <th>Neighborhood_Quality</th>\n",
       "      <th>House_Price</th>\n",
       "    </tr>\n",
       "  </thead>\n",
       "  <tbody>\n",
       "    <tr>\n",
       "      <th>Square_Footage</th>\n",
       "      <td>1.000000</td>\n",
       "      <td>-0.045527</td>\n",
       "      <td>-0.032355</td>\n",
       "      <td>-0.002383</td>\n",
       "      <td>0.122137</td>\n",
       "      <td>0.048211</td>\n",
       "      <td>-0.012412</td>\n",
       "      <td>0.991171</td>\n",
       "    </tr>\n",
       "    <tr>\n",
       "      <th>Num_Bedrooms</th>\n",
       "      <td>-0.045527</td>\n",
       "      <td>1.000000</td>\n",
       "      <td>0.035968</td>\n",
       "      <td>-0.027029</td>\n",
       "      <td>-0.024815</td>\n",
       "      <td>0.117978</td>\n",
       "      <td>-0.040216</td>\n",
       "      <td>0.010955</td>\n",
       "    </tr>\n",
       "    <tr>\n",
       "      <th>Num_Bathrooms</th>\n",
       "      <td>-0.032355</td>\n",
       "      <td>0.035968</td>\n",
       "      <td>1.000000</td>\n",
       "      <td>-0.024984</td>\n",
       "      <td>0.022099</td>\n",
       "      <td>0.032992</td>\n",
       "      <td>0.052662</td>\n",
       "      <td>-0.002796</td>\n",
       "    </tr>\n",
       "    <tr>\n",
       "      <th>Year_Built</th>\n",
       "      <td>-0.002383</td>\n",
       "      <td>-0.027029</td>\n",
       "      <td>-0.024984</td>\n",
       "      <td>1.000000</td>\n",
       "      <td>-0.024306</td>\n",
       "      <td>-0.041249</td>\n",
       "      <td>-0.000531</td>\n",
       "      <td>0.074755</td>\n",
       "    </tr>\n",
       "    <tr>\n",
       "      <th>Lot_Size</th>\n",
       "      <td>0.122137</td>\n",
       "      <td>-0.024815</td>\n",
       "      <td>0.022099</td>\n",
       "      <td>-0.024306</td>\n",
       "      <td>1.000000</td>\n",
       "      <td>-0.003897</td>\n",
       "      <td>0.034042</td>\n",
       "      <td>0.193414</td>\n",
       "    </tr>\n",
       "    <tr>\n",
       "      <th>Garage_Size</th>\n",
       "      <td>0.048211</td>\n",
       "      <td>0.117978</td>\n",
       "      <td>0.032992</td>\n",
       "      <td>-0.041249</td>\n",
       "      <td>-0.003897</td>\n",
       "      <td>1.000000</td>\n",
       "      <td>0.019971</td>\n",
       "      <td>0.068306</td>\n",
       "    </tr>\n",
       "    <tr>\n",
       "      <th>Neighborhood_Quality</th>\n",
       "      <td>-0.012412</td>\n",
       "      <td>-0.040216</td>\n",
       "      <td>0.052662</td>\n",
       "      <td>-0.000531</td>\n",
       "      <td>0.034042</td>\n",
       "      <td>0.019971</td>\n",
       "      <td>1.000000</td>\n",
       "      <td>-0.008713</td>\n",
       "    </tr>\n",
       "    <tr>\n",
       "      <th>House_Price</th>\n",
       "      <td>0.991171</td>\n",
       "      <td>0.010955</td>\n",
       "      <td>-0.002796</td>\n",
       "      <td>0.074755</td>\n",
       "      <td>0.193414</td>\n",
       "      <td>0.068306</td>\n",
       "      <td>-0.008713</td>\n",
       "      <td>1.000000</td>\n",
       "    </tr>\n",
       "  </tbody>\n",
       "</table>\n",
       "</div>"
      ],
      "text/plain": [
       "                      Square_Footage  Num_Bedrooms  Num_Bathrooms  Year_Built  \\\n",
       "Square_Footage              1.000000     -0.045527      -0.032355   -0.002383   \n",
       "Num_Bedrooms               -0.045527      1.000000       0.035968   -0.027029   \n",
       "Num_Bathrooms              -0.032355      0.035968       1.000000   -0.024984   \n",
       "Year_Built                 -0.002383     -0.027029      -0.024984    1.000000   \n",
       "Lot_Size                    0.122137     -0.024815       0.022099   -0.024306   \n",
       "Garage_Size                 0.048211      0.117978       0.032992   -0.041249   \n",
       "Neighborhood_Quality       -0.012412     -0.040216       0.052662   -0.000531   \n",
       "House_Price                 0.991171      0.010955      -0.002796    0.074755   \n",
       "\n",
       "                      Lot_Size  Garage_Size  Neighborhood_Quality  House_Price  \n",
       "Square_Footage        0.122137     0.048211             -0.012412     0.991171  \n",
       "Num_Bedrooms         -0.024815     0.117978             -0.040216     0.010955  \n",
       "Num_Bathrooms         0.022099     0.032992              0.052662    -0.002796  \n",
       "Year_Built           -0.024306    -0.041249             -0.000531     0.074755  \n",
       "Lot_Size              1.000000    -0.003897              0.034042     0.193414  \n",
       "Garage_Size          -0.003897     1.000000              0.019971     0.068306  \n",
       "Neighborhood_Quality  0.034042     0.019971              1.000000    -0.008713  \n",
       "House_Price           0.193414     0.068306             -0.008713     1.000000  "
      ]
     },
     "execution_count": 9,
     "metadata": {},
     "output_type": "execute_result"
    }
   ],
   "source": [
    "data.corr()"
   ]
  },
  {
   "cell_type": "code",
   "execution_count": 10,
   "metadata": {},
   "outputs": [],
   "source": [
    "from sklearn.preprocessing import StandardScaler , MinMaxScaler"
   ]
  },
  {
   "cell_type": "code",
   "execution_count": 12,
   "metadata": {},
   "outputs": [],
   "source": [
    "from sklearn.pipeline import Pipeline \n",
    "from sklearn.compose import ColumnTransformer"
   ]
  },
  {
   "cell_type": "code",
   "execution_count": 24,
   "metadata": {},
   "outputs": [],
   "source": [
    "pipeline1 = ColumnTransformer([('Scaling' , MinMaxScaler() , ['Square_Footage' , 'Lot_Size'])] , remainder='passthrough')"
   ]
  },
  {
   "cell_type": "code",
   "execution_count": 25,
   "metadata": {},
   "outputs": [],
   "source": [
    "pipeline2 = ColumnTransformer([('Scaling of Categorical Columns' , StandardScaler() , ['Garage_Size'])] , remainder='passthrough')"
   ]
  },
  {
   "cell_type": "code",
   "execution_count": 26,
   "metadata": {},
   "outputs": [],
   "source": []
  },
  {
   "cell_type": "code",
   "execution_count": 30,
   "metadata": {},
   "outputs": [
    {
     "data": {
      "text/plain": [
       "<bound method ColumnTransformer.get_params of ColumnTransformer(remainder='passthrough',\n",
       "                  transformers=[('Scaling', MinMaxScaler(),\n",
       "                                 ['Square_Footage', 'Lot_Size'])])>"
      ]
     },
     "execution_count": 30,
     "metadata": {},
     "output_type": "execute_result"
    }
   ],
   "source": [
    "pipeline1.get_params"
   ]
  },
  {
   "cell_type": "code",
   "execution_count": 32,
   "metadata": {},
   "outputs": [],
   "source": [
    "transformed_data = pipeline1.fit_transform(data)"
   ]
  },
  {
   "cell_type": "code",
   "execution_count": null,
   "metadata": {},
   "outputs": [],
   "source": []
  },
  {
   "cell_type": "code",
   "execution_count": null,
   "metadata": {},
   "outputs": [],
   "source": []
  },
  {
   "cell_type": "code",
   "execution_count": null,
   "metadata": {},
   "outputs": [],
   "source": []
  },
  {
   "cell_type": "code",
   "execution_count": 6,
   "metadata": {},
   "outputs": [
    {
     "data": {
      "text/html": [
       "<div>\n",
       "<style scoped>\n",
       "    .dataframe tbody tr th:only-of-type {\n",
       "        vertical-align: middle;\n",
       "    }\n",
       "\n",
       "    .dataframe tbody tr th {\n",
       "        vertical-align: top;\n",
       "    }\n",
       "\n",
       "    .dataframe thead th {\n",
       "        text-align: right;\n",
       "    }\n",
       "</style>\n",
       "<table border=\"1\" class=\"dataframe\">\n",
       "  <thead>\n",
       "    <tr style=\"text-align: right;\">\n",
       "      <th></th>\n",
       "      <th>Unnamed: 0</th>\n",
       "      <th>Square_Footage</th>\n",
       "      <th>Num_Bedrooms</th>\n",
       "      <th>Num_Bathrooms</th>\n",
       "      <th>Year_Built</th>\n",
       "      <th>Lot_Size</th>\n",
       "      <th>Garage_Size</th>\n",
       "      <th>Neighborhood_Quality</th>\n",
       "      <th>House_Price</th>\n",
       "    </tr>\n",
       "  </thead>\n",
       "  <tbody>\n",
       "    <tr>\n",
       "      <th>34</th>\n",
       "      <td>0</td>\n",
       "      <td>1360</td>\n",
       "      <td>2</td>\n",
       "      <td>1</td>\n",
       "      <td>1981</td>\n",
       "      <td>0.599637</td>\n",
       "      <td>0</td>\n",
       "      <td>5</td>\n",
       "      <td>262382.852274</td>\n",
       "    </tr>\n",
       "  </tbody>\n",
       "</table>\n",
       "</div>"
      ],
      "text/plain": [
       "    Unnamed: 0  Square_Footage  Num_Bedrooms  Num_Bathrooms  Year_Built  \\\n",
       "34           0            1360             2              1        1981   \n",
       "\n",
       "    Lot_Size  Garage_Size  Neighborhood_Quality    House_Price  \n",
       "34  0.599637            0                     5  262382.852274  "
      ]
     },
     "execution_count": 6,
     "metadata": {},
     "output_type": "execute_result"
    }
   ],
   "source": [
    "data[data['Square_Footage']==1360]"
   ]
  },
  {
   "cell_type": "code",
   "execution_count": null,
   "metadata": {},
   "outputs": [],
   "source": []
  },
  {
   "cell_type": "code",
   "execution_count": null,
   "metadata": {},
   "outputs": [],
   "source": []
  },
  {
   "cell_type": "code",
   "execution_count": null,
   "metadata": {},
   "outputs": [],
   "source": []
  },
  {
   "cell_type": "code",
   "execution_count": null,
   "metadata": {},
   "outputs": [],
   "source": []
  },
  {
   "cell_type": "code",
   "execution_count": null,
   "metadata": {},
   "outputs": [],
   "source": []
  },
  {
   "cell_type": "code",
   "execution_count": null,
   "metadata": {},
   "outputs": [],
   "source": []
  },
  {
   "cell_type": "code",
   "execution_count": null,
   "metadata": {},
   "outputs": [],
   "source": []
  }
 ],
 "metadata": {
  "kernelspec": {
   "display_name": "Python 3",
   "language": "python",
   "name": "python3"
  },
  "language_info": {
   "codemirror_mode": {
    "name": "ipython",
    "version": 3
   },
   "file_extension": ".py",
   "mimetype": "text/x-python",
   "name": "python",
   "nbconvert_exporter": "python",
   "pygments_lexer": "ipython3",
   "version": "3.9.0"
  }
 },
 "nbformat": 4,
 "nbformat_minor": 2
}
